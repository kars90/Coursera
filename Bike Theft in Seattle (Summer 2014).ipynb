{
 "cells": [
  {
   "cell_type": "markdown",
   "metadata": {},
   "source": [
    "# Bike Thefts in Seattle are most common in the North Preinct during 3pm - 1am \n",
    "\n",
    "\n",
    "\n",
    "In this small investigation of the Seattle crime Data I will focus on bike thefts. For the investigation I am using Python3 and the pandas package. For visualizations I am using seaborn and plotly. \n",
    "\n",
    "I will show that most bike thefts are reported in the North Police Preinct during 3pm - 1 am \n"
   ]
  },
  {
   "cell_type": "code",
   "execution_count": 185,
   "metadata": {},
   "outputs": [
    {
     "data": {
      "text/html": [
       "<script type=\"text/javascript\">window.PlotlyConfig = {MathJaxConfig: 'local'};</script><script type=\"text/javascript\">if (window.MathJax) {MathJax.Hub.Config({SVG: {font: \"STIX-Web\"}});}</script><script>requirejs.config({paths: { 'plotly': ['https://cdn.plot.ly/plotly-latest.min']},});if(!window._Plotly) {require(['plotly'],function(plotly) {window._Plotly=plotly;});}</script>"
      ],
      "text/vnd.plotly.v1+html": [
       "<script type=\"text/javascript\">window.PlotlyConfig = {MathJaxConfig: 'local'};</script><script type=\"text/javascript\">if (window.MathJax) {MathJax.Hub.Config({SVG: {font: \"STIX-Web\"}});}</script><script>requirejs.config({paths: { 'plotly': ['https://cdn.plot.ly/plotly-latest.min']},});if(!window._Plotly) {require(['plotly'],function(plotly) {window._Plotly=plotly;});}</script>"
      ]
     },
     "metadata": {},
     "output_type": "display_data"
    }
   ],
   "source": [
    "import pandas as pd\n",
    "import numpy as np \n",
    "import seaborn as sns\n",
    "import matplotlib.pyplot as plt\n",
    "import datetime as dt\n",
    "import plotly.graph_objs as go\n",
    "from plotly.offline import iplot, init_notebook_mode\n",
    "\n",
    "init_notebook_mode(connected=True)\n",
    "\n",
    "sns.set(style=\"darkgrid\")\n",
    "%matplotlib inline"
   ]
  },
  {
   "cell_type": "markdown",
   "metadata": {},
   "source": [
    "## Preparing the data\n",
    "\n",
    "### First Step:\n",
    "\n",
    "First I am loading the data using pandas read_csv() function. After that I convert dates into datetime variables and extract information abour the weekday, date, and hour into new columns"
   ]
  },
  {
   "cell_type": "code",
   "execution_count": 186,
   "metadata": {},
   "outputs": [],
   "source": [
    "df_seattle = pd.read_csv('seattle_incidents_summer_2014.csv')\n",
    "\n",
    "df_seattle['Occurred Date Range End'] = pd.to_datetime(df_seattle['Occurred Date Range End'])\n",
    "df_seattle['Occurred Date or Date Range Start'] = pd.to_datetime(df_seattle['Occurred Date or Date Range Start'])\n",
    "df_seattle['Date Reported'] = pd.to_datetime(df_seattle['Date Reported'])\n",
    "df_seattle['Weekday'] = df_seattle['Occurred Date or Date Range Start'].dt.weekday\n",
    "df_seattle['Date'] = df_seattle['Occurred Date or Date Range Start'].dt.date\n",
    "df_seattle['Hour'] = df_seattle['Occurred Date or Date Range Start'].dt.hour\n",
    "\n",
    "bike_theft_seattle = df_seattle[df_seattle['Summarized Offense Description'] == 'BIKE THEFT']"
   ]
  },
  {
   "cell_type": "markdown",
   "metadata": {},
   "source": [
    "### Second Step: \n",
    "\n",
    "According to the Seattle website (https://www.seattle.gov/police/information-and-data/tweets-by-beat) the Police Districts given in the Dataset (row 'District/Sector') are assigned to 5 different Preincts. The Preincts are geographic areas in Seattle. \n",
    "\n",
    "Therefore I will assign each Bike Theft to a Preinct according to the District the crime was reported in. "
   ]
  },
  {
   "cell_type": "code",
   "execution_count": 164,
   "metadata": {},
   "outputs": [],
   "source": [
    "def get_preinct(row):\n",
    "    if row['District/Sector'] in ['C', 'E', 'G']:\n",
    "        return 'East'\n",
    "    if row['District/Sector'] in ['W', 'F']:\n",
    "        return 'Southwest'\n",
    "    if row['District/Sector'] in ['N', 'L', 'J', 'B', 'U']:\n",
    "        return 'North'\n",
    "    if row['District/Sector'] in ['Q', 'D', 'M', 'K']:\n",
    "        return 'West'\n",
    "    if row['District/Sector'] in ['O', 'R', 'S']:\n",
    "        return 'South'\n",
    "    else:\n",
    "        return 'None'"
   ]
  },
  {
   "cell_type": "markdown",
   "metadata": {},
   "source": [
    "## First Visualization\n",
    "\n",
    "Next I will plot the amount of reported bike thefts in a bar graph by District. The bar will be colored accoridng to their police preinct.  "
   ]
  },
  {
   "cell_type": "code",
   "execution_count": 189,
   "metadata": {},
   "outputs": [
    {
     "name": "stderr",
     "output_type": "stream",
     "text": [
      "/Users/kilian_stu/anaconda2/envs/jupyter-data/lib/python3.7/site-packages/ipykernel_launcher.py:2: SettingWithCopyWarning:\n",
      "\n",
      "\n",
      "A value is trying to be set on a copy of a slice from a DataFrame.\n",
      "Try using .loc[row_indexer,col_indexer] = value instead\n",
      "\n",
      "See the caveats in the documentation: http://pandas.pydata.org/pandas-docs/stable/indexing.html#indexing-view-versus-copy\n",
      "\n"
     ]
    },
    {
     "data": {
      "image/png": "[encoded data removed]",
      "text/plain": [
       "<Figure size 720x504 with 1 Axes>"
      ]
     },
     "metadata": {
      "needs_background": "light"
     },
     "output_type": "display_data"
    }
   ],
   "source": [
    "\n",
    "bike_theft_seattle['Preinct'] = bike_theft_seattle.apply(lambda x: get_preinct(x), axis=1)\n",
    "\n",
    "\n",
    "df_plot = (bike_theft_seattle.groupby(['Preinct', 'District/Sector'])\n",
    "                               .size()\n",
    "                               .reset_index()\n",
    "                               .pivot(columns='Preinct', index='District/Sector', values=0)\n",
    "                               .fillna(0))\n",
    "\n",
    "df_plot['Total'] = df_plot.apply(sum, axis=1)\n",
    "df_plot.sort_values('Total', ascending=True, inplace=True)\n",
    "df_plot = df_plot[['North', 'West', 'South', 'East', 'Southwest', 'None']]\n",
    "\n",
    "df_plot.plot(kind='barh', stacked=True, sort_columns=True, figsize=(10,7) )\n",
    "\n",
    "plt.title('Districts with the most bike thefts in Seattle during Summer 2014', size=18)\n",
    "plt.xlabel('Reported Bike Thefts', size=15)\n",
    "plt.ylabel('District/Sector', size=15);"
   ]
  },
  {
   "cell_type": "markdown",
   "metadata": {},
   "source": [
    "In the above visualization you can see that the top 3 Districts with the most reported bike thefts are all in the North Preinct. In contrast the South and the Southwest district represent the districts with the lowest reported bike thefts."
   ]
  },
  {
   "cell_type": "markdown",
   "metadata": {},
   "source": [
    "## Second Visualization\n",
    "In the second visualization I will plot the data for the North Preinct. I will plot a bar graph representing the amount bike thefts reported during each hour of the day "
   ]
  },
  {
   "cell_type": "code",
   "execution_count": 190,
   "metadata": {},
   "outputs": [
    {
     "data": {
      "application/vnd.plotly.v1+json": {
       "config": {
        "linkText": "Export to plot.ly",
        "plotlyServerURL": "https://plot.ly",
        "showLink": false
       },
       "data": [
        {
         "text": [
          20,
          8,
          2,
          4,
          8,
          4,
          7,
          3,
          17,
          12,
          13,
          8,
          4,
          10,
          17,
          21,
          21,
          33,
          18,
          25,
          24,
          24,
          33,
          10
         ],
         "textposition": "inside",
         "type": "bar",
         "uid": "d4141b52-8b3f-45ac-970f-e3aa9324c9e8",
         "x": [
          0,
          1,
          2,
          3,
          4,
          5,
          6,
          7,
          8,
          9,
          10,
          11,
          12,
          13,
          14,
          15,
          16,
          17,
          18,
          19,
          20,
          21,
          22,
          23
         ],
         "y": [
          20,
          8,
          2,
          4,
          8,
          4,
          7,
          3,
          17,
          12,
          13,
          8,
          4,
          10,
          17,
          21,
          21,
          33,
          18,
          25,
          24,
          24,
          33,
          10
         ]
        }
       ],
       "layout": {
        "title": {
         "text": "Amount of Bike Thefts during each hour in the North Preinct (Summer 2014)"
        },
        "xaxis": {
         "title": {
          "text": "Hour of the day"
         }
        },
        "yaxis": {
         "visible": false
        }
       }
      },
      "text/html": [
       "<div id=\"db1a981e-b2b2-466d-88d3-8c4b4d7ab4bd\" style=\"height: 525px; width: 100%;\" class=\"plotly-graph-div\"></div><script type=\"text/javascript\">require([\"plotly\"], function(Plotly) { window.PLOTLYENV=window.PLOTLYENV || {};window.PLOTLYENV.BASE_URL=\"https://plot.ly\";Plotly.newPlot(\"db1a981e-b2b2-466d-88d3-8c4b4d7ab4bd\", [{\"text\": [20.0, 8.0, 2.0, 4.0, 8.0, 4.0, 7.0, 3.0, 17.0, 12.0, 13.0, 8.0, 4.0, 10.0, 17.0, 21.0, 21.0, 33.0, 18.0, 25.0, 24.0, 24.0, 33.0, 10.0], \"textposition\": \"inside\", \"x\": [0, 1, 2, 3, 4, 5, 6, 7, 8, 9, 10, 11, 12, 13, 14, 15, 16, 17, 18, 19, 20, 21, 22, 23], \"y\": [20, 8, 2, 4, 8, 4, 7, 3, 17, 12, 13, 8, 4, 10, 17, 21, 21, 33, 18, 25, 24, 24, 33, 10], \"type\": \"bar\", \"uid\": \"d4141b52-8b3f-45ac-970f-e3aa9324c9e8\"}], {\"title\": {\"text\": \"Amount of Bike Thefts during each hour in the North Preinct (Summer 2014)\"}, \"xaxis\": {\"title\": {\"text\": \"Hour of the day\"}}, \"yaxis\": {\"visible\": false}}, {\"showLink\": false, \"linkText\": \"Export to plot.ly\", \"plotlyServerURL\": \"https://plot.ly\"})});</script><script type=\"text/javascript\">window.addEventListener(\"resize\", function(){window._Plotly.Plots.resize(document.getElementById(\"db1a981e-b2b2-466d-88d3-8c4b4d7ab4bd\"));});</script>"
      ],
      "text/vnd.plotly.v1+html": [
       "<div id=\"db1a981e-b2b2-466d-88d3-8c4b4d7ab4bd\" style=\"height: 525px; width: 100%;\" class=\"plotly-graph-div\"></div><script type=\"text/javascript\">require([\"plotly\"], function(Plotly) { window.PLOTLYENV=window.PLOTLYENV || {};window.PLOTLYENV.BASE_URL=\"https://plot.ly\";Plotly.newPlot(\"db1a981e-b2b2-466d-88d3-8c4b4d7ab4bd\", [{\"text\": [20.0, 8.0, 2.0, 4.0, 8.0, 4.0, 7.0, 3.0, 17.0, 12.0, 13.0, 8.0, 4.0, 10.0, 17.0, 21.0, 21.0, 33.0, 18.0, 25.0, 24.0, 24.0, 33.0, 10.0], \"textposition\": \"inside\", \"x\": [0, 1, 2, 3, 4, 5, 6, 7, 8, 9, 10, 11, 12, 13, 14, 15, 16, 17, 18, 19, 20, 21, 22, 23], \"y\": [20, 8, 2, 4, 8, 4, 7, 3, 17, 12, 13, 8, 4, 10, 17, 21, 21, 33, 18, 25, 24, 24, 33, 10], \"type\": \"bar\", \"uid\": \"d4141b52-8b3f-45ac-970f-e3aa9324c9e8\"}], {\"title\": {\"text\": \"Amount of Bike Thefts during each hour in the North Preinct (Summer 2014)\"}, \"xaxis\": {\"title\": {\"text\": \"Hour of the day\"}}, \"yaxis\": {\"visible\": false}}, {\"showLink\": false, \"linkText\": \"Export to plot.ly\", \"plotlyServerURL\": \"https://plot.ly\"})});</script><script type=\"text/javascript\">window.addEventListener(\"resize\", function(){window._Plotly.Plots.resize(document.getElementById(\"db1a981e-b2b2-466d-88d3-8c4b4d7ab4bd\"));});</script>"
      ]
     },
     "metadata": {},
     "output_type": "display_data"
    }
   ],
   "source": [
    "\n",
    "test = (bike_theft_seattle[bike_theft_seattle['Preinct'] == 'North'].groupby('Hour')[['Hour']]\n",
    "                          .count()\n",
    "                          .rename({'Hour': 'Frequency'}, axis=1)\n",
    "                          .reset_index())\n",
    "\n",
    "trace1 = go.Bar(x=test['Hour'], \n",
    "                y=test['Frequency'],\n",
    "               text=test['Frequency'],\n",
    "               textposition='inside')\n",
    "\n",
    "data = [trace1]\n",
    "\n",
    "layout = go.Layout(title='Amount of Bike Thefts during each hour in the North Preinct (Summer 2014)',\n",
    "                  xaxis=dict(title='Hour of the day'),\n",
    "                  yaxis=dict(visible=False))\n",
    "\n",
    "figure = go.Figure(data=data, layout=layout)\n",
    "\n",
    "iplot(figure)\n"
   ]
  },
  {
   "cell_type": "markdown",
   "metadata": {},
   "source": [
    "The above visualization shows the amount of bike thefts reported for every hour of the day during Summer 2014. It can be seen that most bike thefts occur during 3pm - 1am. A second peak can be seen during 8am-11am. This might be when people go to work by bike. "
   ]
  }
 ],
 "metadata": {
  "kernelspec": {
   "display_name": "Python 3",
   "language": "python",
   "name": "python3"
  },
  "language_info": {
   "codemirror_mode": {
    "name": "ipython",
    "version": 3
   },
   "file_extension": ".py",
   "mimetype": "text/x-python",
   "name": "python",
   "nbconvert_exporter": "python",
   "pygments_lexer": "ipython3",
   "version": "3.7.2"
  }
 },
 "nbformat": 4,
 "nbformat_minor": 2
}
